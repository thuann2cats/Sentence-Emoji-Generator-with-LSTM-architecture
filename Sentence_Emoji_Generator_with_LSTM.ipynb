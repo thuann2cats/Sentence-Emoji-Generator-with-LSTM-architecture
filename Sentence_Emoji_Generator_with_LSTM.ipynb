{
 "cells": [
  {
   "cell_type": "markdown",
   "source": [
    "In this [experiment](Sentence_Emoji_Generator_with_LSTM.ipynb), I built and trained a classifier using an LSTM, which would read a short sentence and determines the best emoji to go with that sentence, based on the starting code, instructions, and utility functions from the [Convolutional Neural Networks](https://coursera.org/learn/convolutional-neural-networks) course (by DeepLearning.AI on Coursera).\n",
    "\n",
    "Please input sentences in this cell and run the prediction to see the results:\n",
    "```\n",
    "x_test = np.array(['I cannot play baseball today', \n",
    "                   'My homework is just too hard',\n",
    "                   'Joey is just hilarious',\n",
    "                   'I am sorry baby! I will arrive on time!',\n",
    "                   'Thanks for writing to me',\n",
    "                   'Love your dishes - best cake ever!',\n",
    "                   'I miss you. When are you coming back?'])\n",
    "```\n",
    "\n",
    "The emojis returned seem to fit the sentences quite well!\n",
    "\n",
    "![emoji_output_samples.PNG](emoji_output_samples.PNG)\n",
    "\n",
    "The LSTM architecture is as follows (image from the Coursera assignment):\n",
    "\n",
    "![emojifier-v2.png](images%2Femojifier-v2.png)"
   ],
   "metadata": {
    "collapsed": false
   },
   "id": "e2de11bf0729b0e6"
  },
  {
   "cell_type": "code",
   "execution_count": 3,
   "id": "initial_id",
   "metadata": {
    "collapsed": true,
    "ExecuteTime": {
     "end_time": "2023-12-20T08:46:47.688676400Z",
     "start_time": "2023-12-20T08:46:47.361784800Z"
    },
    "id": "initial_id",
    "executionInfo": {
     "status": "ok",
     "timestamp": 1703063045120,
     "user_tz": -420,
     "elapsed": 298,
     "user": {
      "displayName": "Thuan Nguyen",
      "userId": "08117843644571562719"
     }
    }
   },
   "outputs": [],
   "source": [
    "%load_ext autoreload\n",
    "%autoreload 2"
   ]
  },
  {
   "cell_type": "code",
   "source": [
    "# from google.colab import drive\n",
    "# drive.mount('/content/drive')"
   ],
   "metadata": {
    "colab": {
     "base_uri": "https://localhost:8080/"
    },
    "id": "rMMdzBlrdpU6",
    "executionInfo": {
     "status": "ok",
     "timestamp": 1703063003958,
     "user_tz": -420,
     "elapsed": 20021,
     "user": {
      "displayName": "Thuan Nguyen",
      "userId": "08117843644571562719"
     }
    },
    "outputId": "fdf054d1-4bb0-453a-d507-89b764afd688"
   },
   "id": "rMMdzBlrdpU6",
   "execution_count": 1,
   "outputs": [
    {
     "output_type": "stream",
     "name": "stdout",
     "text": [
      "Mounted at /content/drive\n"
     ]
    }
   ]
  },
  {
   "cell_type": "code",
   "source": [
    "# %cd /content/drive/Othercomputers/My Laptop/T_Repo/C5_W2_Assignment2/Files/home/jovyan/work/W2A2\n",
    "# %ls"
   ],
   "metadata": {
    "colab": {
     "base_uri": "https://localhost:8080/"
    },
    "id": "9aPP1OkPd6Ur",
    "executionInfo": {
     "status": "ok",
     "timestamp": 1703063043492,
     "user_tz": -420,
     "elapsed": 18,
     "user": {
      "displayName": "Thuan Nguyen",
      "userId": "08117843644571562719"
     }
    },
    "outputId": "7e50dde8-d506-4f2f-f799-2fb0de63d449"
   },
   "id": "9aPP1OkPd6Ur",
   "execution_count": 2,
   "outputs": [
    {
     "output_type": "stream",
     "name": "stdout",
     "text": [
      "/content/drive/Othercomputers/My Laptop/T_Repo/C5_W2_Assignment2/Files/home/jovyan/work/W2A2\n",
      "\u001B[0m\u001B[01;34mdata\u001B[0m/                 \u001B[01;34mimages\u001B[0m/                    \u001B[01;34mPythonScript\u001B[0m/\n",
      "Emoji_v3a.ipynb       notebook2script.py         readme.md\n",
      "emo_utils.py          O_greyhat_Emoji_v3a.ipynb  Sentence_Emoji_Generator_with_LSTM.ipynb\n",
      "generateTestCases.py  \u001B[01;34m__pycache__\u001B[0m/               test_utils.py\n"
     ]
    }
   ]
  },
  {
   "cell_type": "code",
   "source": [
    "%pip install emoji"
   ],
   "metadata": {
    "colab": {
     "base_uri": "https://localhost:8080/"
    },
    "id": "Nisrved_d-b7",
    "executionInfo": {
     "status": "ok",
     "timestamp": 1703063068955,
     "user_tz": -420,
     "elapsed": 6339,
     "user": {
      "displayName": "Thuan Nguyen",
      "userId": "08117843644571562719"
     }
    },
    "outputId": "8a4a228d-03eb-4656-c9c3-a1d5dff26445"
   },
   "id": "Nisrved_d-b7",
   "execution_count": 5,
   "outputs": [
    {
     "output_type": "stream",
     "name": "stdout",
     "text": [
      "Collecting emoji\n",
      "  Downloading emoji-2.9.0-py2.py3-none-any.whl (397 kB)\n",
      "\u001B[2K     \u001B[90m━━━━━━━━━━━━━━━━━━━━━━━━━━━━━━━━━━━━━━━━\u001B[0m \u001B[32m397.5/397.5 kB\u001B[0m \u001B[31m5.1 MB/s\u001B[0m eta \u001B[36m0:00:00\u001B[0m\n",
      "\u001B[?25hInstalling collected packages: emoji\n",
      "Successfully installed emoji-2.9.0\n"
     ]
    }
   ]
  },
  {
   "cell_type": "code",
   "execution_count": 6,
   "outputs": [],
   "source": [
    "import numpy as np\n",
    "from emo_utils import *\n",
    "import emoji\n",
    "import matplotlib.pyplot as plt\n",
    "from test_utils import *\n",
    "\n",
    "%matplotlib inline"
   ],
   "metadata": {
    "ExecuteTime": {
     "end_time": "2023-12-20T08:47:25.613156Z",
     "start_time": "2023-12-20T08:46:47.691670600Z"
    },
    "id": "c0149b8a8a88b9e7",
    "executionInfo": {
     "status": "ok",
     "timestamp": 1703063073432,
     "user_tz": -420,
     "elapsed": 4485,
     "user": {
      "displayName": "Thuan Nguyen",
      "userId": "08117843644571562719"
     }
    }
   },
   "id": "c0149b8a8a88b9e7"
  },
  {
   "cell_type": "markdown",
   "source": [
    "# Dataset\n",
    "+ X contains 127 sentences\n",
    "+ Y contains an integer label between 0 and 4 corresponding to an emoji for each sentence"
   ],
   "metadata": {
    "collapsed": false,
    "id": "1402ae49bc8b808d"
   },
   "id": "1402ae49bc8b808d"
  },
  {
   "cell_type": "code",
   "execution_count": 7,
   "outputs": [],
   "source": [
    "X_train, Y_train = read_csv('data/train_emoji.csv')\n",
    "X_test, Y_test = read_csv('data/tesss.csv')"
   ],
   "metadata": {
    "ExecuteTime": {
     "end_time": "2023-12-20T08:47:26.412170700Z",
     "start_time": "2023-12-20T08:47:25.613156Z"
    },
    "id": "7b9463afe869ea23",
    "executionInfo": {
     "status": "ok",
     "timestamp": 1703063073912,
     "user_tz": -420,
     "elapsed": 486,
     "user": {
      "displayName": "Thuan Nguyen",
      "userId": "08117843644571562719"
     }
    }
   },
   "id": "7b9463afe869ea23"
  },
  {
   "cell_type": "code",
   "execution_count": 8,
   "outputs": [],
   "source": [
    "maxLen = len(max(X_train, key=len).split())"
   ],
   "metadata": {
    "ExecuteTime": {
     "end_time": "2023-12-20T08:47:27.248118700Z",
     "start_time": "2023-12-20T08:47:26.415166600Z"
    },
    "id": "21622130bcc8b1af",
    "executionInfo": {
     "status": "ok",
     "timestamp": 1703063073912,
     "user_tz": -420,
     "elapsed": 3,
     "user": {
      "displayName": "Thuan Nguyen",
      "userId": "08117843644571562719"
     }
    }
   },
   "id": "21622130bcc8b1af"
  },
  {
   "cell_type": "code",
   "execution_count": 9,
   "outputs": [
    {
     "output_type": "stream",
     "name": "stdout",
     "text": [
      "never talk to me again 😞\n",
      "I am proud of your achievements 😄\n",
      "It is the worst day in my life 😞\n",
      "Miss you so much ❤️\n",
      "food is life 🍴\n",
      "I love you mum ❤️\n",
      "Stop saying bullshit 😞\n",
      "congratulations on your acceptance 😄\n",
      "The assignment is too long  😞\n",
      "I want to go play ⚾\n"
     ]
    }
   ],
   "source": [
    "# Example input strings and associated emojis:\n",
    "for idx in range(10):\n",
    "    print(X_train[idx], label_to_emoji(Y_train[idx]))"
   ],
   "metadata": {
    "ExecuteTime": {
     "end_time": "2023-12-20T08:48:14.420233900Z",
     "start_time": "2023-12-20T08:48:06.059272300Z"
    },
    "colab": {
     "base_uri": "https://localhost:8080/"
    },
    "id": "7d0fea7eab4d2613",
    "executionInfo": {
     "status": "ok",
     "timestamp": 1703063074287,
     "user_tz": -420,
     "elapsed": 377,
     "user": {
      "displayName": "Thuan Nguyen",
      "userId": "08117843644571562719"
     }
    },
    "outputId": "5c35fc5b-6b16-4224-8f00-55fbca7058eb"
   },
   "id": "7d0fea7eab4d2613"
  },
  {
   "cell_type": "code",
   "execution_count": 10,
   "outputs": [],
   "source": [
    "# Convert Y from current shape of (m, 1) into a \"one-hot representation\" - shape (m, 5)\n",
    "Y_oh_train = convert_to_one_hot(Y_train, C = 5)\n",
    "Y_oh_test = convert_to_one_hot(Y_test, C = 5)"
   ],
   "metadata": {
    "ExecuteTime": {
     "end_time": "2023-12-20T08:49:03.956052200Z",
     "start_time": "2023-12-20T08:49:02.282162300Z"
    },
    "id": "2e926bd8fdd6eb49",
    "executionInfo": {
     "status": "ok",
     "timestamp": 1703063074287,
     "user_tz": -420,
     "elapsed": 12,
     "user": {
      "displayName": "Thuan Nguyen",
      "userId": "08117843644571562719"
     }
    }
   },
   "id": "2e926bd8fdd6eb49"
  },
  {
   "cell_type": "code",
   "execution_count": 11,
   "outputs": [
    {
     "output_type": "stream",
     "name": "stdout",
     "text": [
      "Sentence 'this joke is killing me haha' has label index 2, which is emoji 😄\n",
      "Label index 2 in one-hot encoding format is [0. 0. 1. 0. 0.]\n"
     ]
    }
   ],
   "source": [
    "# Example of one-hot encoding:\n",
    "idx = 47\n",
    "print(f\"Sentence '{X_train[idx]}' has label index {Y_train[idx]}, which is emoji {label_to_emoji(Y_train[idx])}\", )\n",
    "print(f\"Label index {Y_train[idx]} in one-hot encoding format is {Y_oh_train[idx]}\")"
   ],
   "metadata": {
    "ExecuteTime": {
     "end_time": "2023-12-20T08:50:56.706661100Z",
     "start_time": "2023-12-20T08:50:54.555168300Z"
    },
    "colab": {
     "base_uri": "https://localhost:8080/"
    },
    "id": "b9176398d389f0df",
    "executionInfo": {
     "status": "ok",
     "timestamp": 1703063074287,
     "user_tz": -420,
     "elapsed": 11,
     "user": {
      "displayName": "Thuan Nguyen",
      "userId": "08117843644571562719"
     }
    },
    "outputId": "36e89a9c-3f91-407a-f179-8c25844dc507"
   },
   "id": "b9176398d389f0df"
  },
  {
   "cell_type": "code",
   "execution_count": 12,
   "outputs": [],
   "source": [
    "# Loading the word embeddings (GloVe)\n",
    "word_to_index, index_to_word, word_to_vec_map = read_glove_vecs('data/glove.6B.50d.txt')"
   ],
   "metadata": {
    "ExecuteTime": {
     "end_time": "2023-12-20T08:51:32.754519700Z",
     "start_time": "2023-12-20T08:51:17.599687300Z"
    },
    "id": "868995ac8e1f000f",
    "executionInfo": {
     "status": "ok",
     "timestamp": 1703063080602,
     "user_tz": -420,
     "elapsed": 6322,
     "user": {
      "displayName": "Thuan Nguyen",
      "userId": "08117843644571562719"
     }
    }
   },
   "id": "868995ac8e1f000f"
  },
  {
   "cell_type": "markdown",
   "source": [
    "- `word_to_index`: dictionary mapping from words to their indices in the vocabulary\n",
    "    - (400,001 words, with the valid indices ranging from 0 to 400,000)\n",
    "- `index_to_word`: dictionary mapping from indices to their corresponding words in the vocabulary\n",
    "- `word_to_vec_map`: dictionary mapping words to their GloVe vector representation."
   ],
   "metadata": {
    "collapsed": false,
    "id": "dfeb05d34a3f524f"
   },
   "id": "dfeb05d34a3f524f"
  },
  {
   "cell_type": "code",
   "execution_count": 13,
   "outputs": [
    {
     "output_type": "stream",
     "name": "stdout",
     "text": [
      "the index of cucumber in the vocabulary is 113317\n",
      "the 289846th word in the vocabulary is potatos\n"
     ]
    }
   ],
   "source": [
    "# Examples\n",
    "word = \"cucumber\"\n",
    "idx = 289846\n",
    "print(\"the index of\", word, \"in the vocabulary is\", word_to_index[word])\n",
    "print(\"the\", str(idx) + \"th word in the vocabulary is\", index_to_word[idx])"
   ],
   "metadata": {
    "ExecuteTime": {
     "end_time": "2023-12-20T08:51:49.497267400Z",
     "start_time": "2023-12-20T08:51:47.182222900Z"
    },
    "colab": {
     "base_uri": "https://localhost:8080/"
    },
    "id": "cbadc92466d50adb",
    "executionInfo": {
     "status": "ok",
     "timestamp": 1703063080602,
     "user_tz": -420,
     "elapsed": 31,
     "user": {
      "displayName": "Thuan Nguyen",
      "userId": "08117843644571562719"
     }
    },
    "outputId": "1264ced3-4b2d-4f9c-82ae-27065296d872"
   },
   "id": "cbadc92466d50adb"
  },
  {
   "cell_type": "code",
   "execution_count": 14,
   "outputs": [],
   "source": [
    "import numpy as np\n",
    "import tensorflow\n",
    "np.random.seed(0)\n",
    "from keras.api._v2.keras.models import Model\n",
    "from keras.api._v2.keras.layers import Dense, Input, Dropout, LSTM, Activation\n",
    "from keras.api._v2.keras.layers import Embedding\n",
    "from keras.api._v2.keras.preprocessing import sequence\n",
    "from keras.api._v2.keras.initializers import glorot_uniform\n",
    "np.random.seed(1)"
   ],
   "metadata": {
    "ExecuteTime": {
     "end_time": "2023-12-20T08:52:58.021030700Z",
     "start_time": "2023-12-20T08:52:55.863540400Z"
    },
    "id": "8675afdac504dc5b",
    "executionInfo": {
     "status": "ok",
     "timestamp": 1703063080603,
     "user_tz": -420,
     "elapsed": 27,
     "user": {
      "displayName": "Thuan Nguyen",
      "userId": "08117843644571562719"
     }
    }
   },
   "id": "8675afdac504dc5b"
  },
  {
   "cell_type": "code",
   "execution_count": 15,
   "outputs": [],
   "source": [
    "def sentences_to_indices(X, word_to_index, max_len):\n",
    "    \"\"\"\n",
    "    Converts an array of sentences (strings) into an array of indices corresponding to words in the sentences.\n",
    "    The output shape should be such that it can be given to `Embedding()` (described in Figure 4).\n",
    "\n",
    "    Arguments:\n",
    "    X -- array of sentences (strings), of shape (m, 1)\n",
    "    word_to_index -- a dictionary containing the each word mapped to its index\n",
    "    max_len -- maximum number of words in a sentence. You can assume every sentence in X is no longer than this.\n",
    "\n",
    "    Returns:\n",
    "    X_indices -- array of indices corresponding to words in the sentences from X, of shape (m, max_len)\n",
    "    \"\"\"\n",
    "\n",
    "    m = X.shape[0]\n",
    "\n",
    "    X_indices = np.zeros([m,max_len])\n",
    "\n",
    "    for i in range(m):                               # loop over training examples\n",
    "\n",
    "        # Convert the ith training sentence in lower case and split is into words. You should get a list of words.\n",
    "        sentence_words = X[i].lower().split()\n",
    "\n",
    "        j = 0\n",
    "\n",
    "        for w in sentence_words:\n",
    "            if w in word_to_index:\n",
    "                X_indices[i, j] = word_to_index[w]\n",
    "                j += 1\n",
    "    return X_indices"
   ],
   "metadata": {
    "ExecuteTime": {
     "end_time": "2023-12-20T08:55:20.306628300Z",
     "start_time": "2023-12-20T08:55:17.585685800Z"
    },
    "id": "d456e6f15a7e9150",
    "executionInfo": {
     "status": "ok",
     "timestamp": 1703063080603,
     "user_tz": -420,
     "elapsed": 20,
     "user": {
      "displayName": "Thuan Nguyen",
      "userId": "08117843644571562719"
     }
    }
   },
   "id": "d456e6f15a7e9150"
  },
  {
   "cell_type": "code",
   "execution_count": 16,
   "outputs": [
    {
     "output_type": "stream",
     "name": "stdout",
     "text": [
      "X1 = ['funny lol' 'lets play baseball' 'food is ready for you']\n",
      "X1_indices =\n",
      " [[155345. 225122.      0.      0.      0.]\n",
      " [220930. 286375.  69714.      0.      0.]\n",
      " [151204. 192973. 302254. 151349. 394475.]]\n"
     ]
    }
   ],
   "source": [
    "# Examples\n",
    "X1 = np.array([\"funny lol\", \"lets play baseball\", \"food is ready for you\"])\n",
    "X1_indices = sentences_to_indices(X1, word_to_index, max_len=5)\n",
    "print(\"X1 =\", X1)\n",
    "print(\"X1_indices =\\n\", X1_indices)"
   ],
   "metadata": {
    "ExecuteTime": {
     "end_time": "2023-12-20T08:55:33.722958800Z",
     "start_time": "2023-12-20T08:55:31.574952Z"
    },
    "colab": {
     "base_uri": "https://localhost:8080/"
    },
    "id": "b87e3f4bf439f377",
    "executionInfo": {
     "status": "ok",
     "timestamp": 1703063080604,
     "user_tz": -420,
     "elapsed": 20,
     "user": {
      "displayName": "Thuan Nguyen",
      "userId": "08117843644571562719"
     }
    },
    "outputId": "239831c3-2db3-4b4c-a2a6-82837a1b68bb"
   },
   "id": "b87e3f4bf439f377"
  },
  {
   "cell_type": "markdown",
   "source": [
    "# Creating Keras embedding layer with pre-trained weights"
   ],
   "metadata": {
    "collapsed": false,
    "id": "373212c7e95902a1"
   },
   "id": "373212c7e95902a1"
  },
  {
   "cell_type": "code",
   "execution_count": 17,
   "outputs": [],
   "source": [
    "def pretrained_embedding_layer(word_to_vec_map, word_to_index):\n",
    "    \"\"\"\n",
    "    Creates a Keras Embedding() layer and loads in pre-trained GloVe 50-dimensional vectors.\n",
    "\n",
    "    Arguments:\n",
    "    word_to_vec_map -- dictionary mapping words to their GloVe vector representation.\n",
    "    word_to_index -- dictionary mapping from words to their indices in the vocabulary (400,001 words)\n",
    "\n",
    "    Returns:\n",
    "    embedding_layer -- pretrained layer Keras instance\n",
    "    \"\"\"\n",
    "\n",
    "    vocab_size = len(word_to_index) + 1              # adding 1 to fit Keras embedding (requirement)\n",
    "    any_word = list(word_to_vec_map.keys())[0]\n",
    "    emb_dim = word_to_vec_map[any_word].shape[0]    # define dimensionality of your GloVe word vectors (= 50)\n",
    "\n",
    "    # Step 1\n",
    "    # Initialize the embedding matrix as a numpy array of zeros.\n",
    "    # See instructions above to choose the correct shape.\n",
    "    emb_matrix = np.zeros([vocab_size,emb_dim])\n",
    "\n",
    "    # Step 2\n",
    "    # Set each row \"idx\" of the embedding matrix to be\n",
    "    # the word vector representation of the idx'th word of the vocabulary\n",
    "    for word, idx in word_to_index.items():\n",
    "        emb_matrix[idx, :] = word_to_vec_map[word]\n",
    "\n",
    "    # Step 3\n",
    "    # Define Keras embedding layer with the correct input and output sizes\n",
    "    # Make it non-trainable.\n",
    "    embedding_layer = Embedding(vocab_size, emb_dim ,trainable = False)\n",
    "\n",
    "    # Build the embedding layer, it is required before setting the weights of the embedding layer.\n",
    "    embedding_layer.build((None,))\n",
    "\n",
    "    # Set the weights of the embedding layer to the embedding matrix. Your layer is now pretrained.\n",
    "    embedding_layer.set_weights([emb_matrix])\n",
    "\n",
    "    return embedding_layer"
   ],
   "metadata": {
    "ExecuteTime": {
     "end_time": "2023-12-20T08:57:03.129031400Z",
     "start_time": "2023-12-20T08:57:01.084830800Z"
    },
    "id": "b19d8349795242f1",
    "executionInfo": {
     "status": "ok",
     "timestamp": 1703063081292,
     "user_tz": -420,
     "elapsed": 697,
     "user": {
      "displayName": "Thuan Nguyen",
      "userId": "08117843644571562719"
     }
    }
   },
   "id": "b19d8349795242f1"
  },
  {
   "cell_type": "markdown",
   "source": [
    "# Building the LSTM neural network"
   ],
   "metadata": {
    "collapsed": false,
    "id": "67cecc0c4897df30"
   },
   "id": "67cecc0c4897df30"
  },
  {
   "cell_type": "markdown",
   "source": [
    "![emojifier-v2.png](images%2Femojifier-v2.png)"
   ],
   "metadata": {
    "collapsed": false,
    "id": "21a08c9b1294e61"
   },
   "id": "21a08c9b1294e61"
  },
  {
   "cell_type": "code",
   "execution_count": 18,
   "outputs": [],
   "source": [
    "def Emojify(input_shape, word_to_vec_map, word_to_index):\n",
    "    \"\"\"\n",
    "    Function creating the Emojify-v2 model's graph.\n",
    "\n",
    "    Arguments:\n",
    "    input_shape -- shape of the input, usually (max_len,)\n",
    "    word_to_vec_map -- dictionary mapping every word in a vocabulary into its 50-dimensional vector representation\n",
    "    word_to_index -- dictionary mapping from words to their indices in the vocabulary (400,001 words)\n",
    "\n",
    "    Returns:\n",
    "    model -- a model instance in Keras\n",
    "    \"\"\"\n",
    "\n",
    "    # Define sentence_indices as the input of the graph.\n",
    "    # It should be of shape input_shape and dtype 'int32' (as it contains indices, which are integers).\n",
    "    sentence_indices = Input(shape=input_shape,dtype='int32')\n",
    "\n",
    "    # Create the embedding layer pretrained with GloVe Vectors (≈1 line)\n",
    "    embedding_layer = pretrained_embedding_layer(word_to_vec_map, word_to_index)\n",
    "\n",
    "    # Propagate sentence_indices through your embedding layer\n",
    "    # (See additional hints in the instructions).\n",
    "    embeddings = embedding_layer(sentence_indices)\n",
    "\n",
    "    # Propagate the embeddings through an LSTM layer with 128-dimensional hidden state\n",
    "    # The returned output should be a batch of sequences, So, set return_sequences = True\n",
    "    # If return_sequences = False, the LSTM returns only tht last output in output sequence\n",
    "    X = LSTM(units=128, return_sequences=True)(embeddings)\n",
    "    # Add dropout with a probability of 0.5\n",
    "    X = Dropout(0.5)(X)\n",
    "    # Propagate X trough another LSTM layer with 128-dimensional hidden state\n",
    "    # The returned output should be a single hidden state, not a batch of sequences.\n",
    "    X = LSTM(units=128, return_sequences=False)(X)\n",
    "    # Add dropout with a probability of 0.5\n",
    "    X = Dropout(0.5)(X)\n",
    "    # Propagate X through a Dense layer with 5 units\n",
    "    X = Dense(5)(X)\n",
    "    # Add a softmax activation\n",
    "    X = Activation('softmax')(X)\n",
    "\n",
    "    # Create Model instance which converts sentence_indices into X.\n",
    "    return Model(inputs=sentence_indices,outputs=X)\n",
    ""
   ],
   "metadata": {
    "ExecuteTime": {
     "end_time": "2023-12-20T08:58:59.774142Z",
     "start_time": "2023-12-20T08:58:58.093265300Z"
    },
    "id": "e731f7a40800244b",
    "executionInfo": {
     "status": "ok",
     "timestamp": 1703063081293,
     "user_tz": -420,
     "elapsed": 7,
     "user": {
      "displayName": "Thuan Nguyen",
      "userId": "08117843644571562719"
     }
    }
   },
   "id": "e731f7a40800244b"
  },
  {
   "cell_type": "code",
   "execution_count": 19,
   "outputs": [
    {
     "output_type": "stream",
     "name": "stdout",
     "text": [
      "Model: \"model\"\n",
      "_________________________________________________________________\n",
      " Layer (type)                Output Shape              Param #   \n",
      "=================================================================\n",
      " input_1 (InputLayer)        [(None, 10)]              0         \n",
      "                                                                 \n",
      " embedding (Embedding)       (None, 10, 50)            20000050  \n",
      "                                                                 \n",
      " lstm (LSTM)                 (None, 10, 128)           91648     \n",
      "                                                                 \n",
      " dropout (Dropout)           (None, 10, 128)           0         \n",
      "                                                                 \n",
      " lstm_1 (LSTM)               (None, 128)               131584    \n",
      "                                                                 \n",
      " dropout_1 (Dropout)         (None, 128)               0         \n",
      "                                                                 \n",
      " dense (Dense)               (None, 5)                 645       \n",
      "                                                                 \n",
      " activation (Activation)     (None, 5)                 0         \n",
      "                                                                 \n",
      "=================================================================\n",
      "Total params: 20223927 (77.15 MB)\n",
      "Trainable params: 223877 (874.52 KB)\n",
      "Non-trainable params: 20000050 (76.29 MB)\n",
      "_________________________________________________________________\n"
     ]
    }
   ],
   "source": [
    "model = Emojify((maxLen,), word_to_vec_map, word_to_index)\n",
    "model.summary()"
   ],
   "metadata": {
    "ExecuteTime": {
     "end_time": "2023-12-20T08:59:25.148393Z",
     "start_time": "2023-12-20T08:59:12.336206500Z"
    },
    "colab": {
     "base_uri": "https://localhost:8080/"
    },
    "id": "c492d6c5c994a23d",
    "executionInfo": {
     "status": "ok",
     "timestamp": 1703063083835,
     "user_tz": -420,
     "elapsed": 2548,
     "user": {
      "displayName": "Thuan Nguyen",
      "userId": "08117843644571562719"
     }
    },
    "outputId": "6ddf4d72-14ea-42f1-f35b-163d156cb36e"
   },
   "id": "c492d6c5c994a23d"
  },
  {
   "cell_type": "code",
   "execution_count": 20,
   "outputs": [],
   "source": [
    "model.compile(loss='categorical_crossentropy', optimizer='adam', metrics=['accuracy'])"
   ],
   "metadata": {
    "ExecuteTime": {
     "end_time": "2023-12-20T08:59:26.243357600Z",
     "start_time": "2023-12-20T08:59:25.015141200Z"
    },
    "id": "2d75edca423847aa",
    "executionInfo": {
     "status": "ok",
     "timestamp": 1703063083836,
     "user_tz": -420,
     "elapsed": 6,
     "user": {
      "displayName": "Thuan Nguyen",
      "userId": "08117843644571562719"
     }
    }
   },
   "id": "2d75edca423847aa"
  },
  {
   "cell_type": "markdown",
   "source": [
    "# Training the Model"
   ],
   "metadata": {
    "collapsed": false,
    "id": "a93bcaae911a0653"
   },
   "id": "a93bcaae911a0653"
  },
  {
   "cell_type": "code",
   "execution_count": 21,
   "outputs": [],
   "source": [
    "X_train_indices = sentences_to_indices(X_train, word_to_index, maxLen)\n",
    "Y_train_oh = convert_to_one_hot(Y_train, C=5)"
   ],
   "metadata": {
    "ExecuteTime": {
     "end_time": "2023-12-20T08:59:43.039313800Z",
     "start_time": "2023-12-20T08:59:41.308031100Z"
    },
    "id": "d7b0381babd7e331",
    "executionInfo": {
     "status": "ok",
     "timestamp": 1703063083836,
     "user_tz": -420,
     "elapsed": 6,
     "user": {
      "displayName": "Thuan Nguyen",
      "userId": "08117843644571562719"
     }
    }
   },
   "id": "d7b0381babd7e331"
  },
  {
   "cell_type": "code",
   "execution_count": 22,
   "outputs": [
    {
     "output_type": "stream",
     "name": "stdout",
     "text": [
      "Epoch 1/50\n",
      "5/5 [==============================] - 5s 16ms/step - loss: 1.5993 - accuracy: 0.2424\n",
      "Epoch 2/50\n",
      "5/5 [==============================] - 0s 6ms/step - loss: 1.5107 - accuracy: 0.3636\n",
      "Epoch 3/50\n",
      "5/5 [==============================] - 0s 6ms/step - loss: 1.4668 - accuracy: 0.3258\n",
      "Epoch 4/50\n",
      "5/5 [==============================] - 0s 6ms/step - loss: 1.4156 - accuracy: 0.3712\n",
      "Epoch 5/50\n",
      "5/5 [==============================] - 0s 6ms/step - loss: 1.3028 - accuracy: 0.4924\n",
      "Epoch 6/50\n",
      "5/5 [==============================] - 0s 6ms/step - loss: 1.1654 - accuracy: 0.5530\n",
      "Epoch 7/50\n",
      "5/5 [==============================] - 0s 6ms/step - loss: 1.0482 - accuracy: 0.6061\n",
      "Epoch 8/50\n",
      "5/5 [==============================] - 0s 6ms/step - loss: 0.9967 - accuracy: 0.6061\n",
      "Epoch 9/50\n",
      "5/5 [==============================] - 0s 6ms/step - loss: 0.8325 - accuracy: 0.6894\n",
      "Epoch 10/50\n",
      "5/5 [==============================] - 0s 6ms/step - loss: 0.7707 - accuracy: 0.7500\n",
      "Epoch 11/50\n",
      "5/5 [==============================] - 0s 6ms/step - loss: 0.7161 - accuracy: 0.7424\n",
      "Epoch 12/50\n",
      "5/5 [==============================] - 0s 6ms/step - loss: 0.5517 - accuracy: 0.7879\n",
      "Epoch 13/50\n",
      "5/5 [==============================] - 0s 6ms/step - loss: 0.5681 - accuracy: 0.8030\n",
      "Epoch 14/50\n",
      "5/5 [==============================] - 0s 6ms/step - loss: 0.5703 - accuracy: 0.7803\n",
      "Epoch 15/50\n",
      "5/5 [==============================] - 0s 6ms/step - loss: 0.5042 - accuracy: 0.7803\n",
      "Epoch 16/50\n",
      "5/5 [==============================] - 0s 6ms/step - loss: 0.3274 - accuracy: 0.8864\n",
      "Epoch 17/50\n",
      "5/5 [==============================] - 0s 6ms/step - loss: 0.3352 - accuracy: 0.8561\n",
      "Epoch 18/50\n",
      "5/5 [==============================] - 0s 6ms/step - loss: 0.2883 - accuracy: 0.8864\n",
      "Epoch 19/50\n",
      "5/5 [==============================] - 0s 6ms/step - loss: 0.3240 - accuracy: 0.8939\n",
      "Epoch 20/50\n",
      "5/5 [==============================] - 0s 6ms/step - loss: 0.3089 - accuracy: 0.9015\n",
      "Epoch 21/50\n",
      "5/5 [==============================] - 0s 6ms/step - loss: 0.2180 - accuracy: 0.9015\n",
      "Epoch 22/50\n",
      "5/5 [==============================] - 0s 6ms/step - loss: 0.1929 - accuracy: 0.9394\n",
      "Epoch 23/50\n",
      "5/5 [==============================] - 0s 6ms/step - loss: 0.2014 - accuracy: 0.9242\n",
      "Epoch 24/50\n",
      "5/5 [==============================] - 0s 6ms/step - loss: 0.1672 - accuracy: 0.9394\n",
      "Epoch 25/50\n",
      "5/5 [==============================] - 0s 6ms/step - loss: 0.1749 - accuracy: 0.9545\n",
      "Epoch 26/50\n",
      "5/5 [==============================] - 0s 6ms/step - loss: 0.1362 - accuracy: 0.9470\n",
      "Epoch 27/50\n",
      "5/5 [==============================] - 0s 6ms/step - loss: 0.1406 - accuracy: 0.9545\n",
      "Epoch 28/50\n",
      "5/5 [==============================] - 0s 6ms/step - loss: 0.2871 - accuracy: 0.9318\n",
      "Epoch 29/50\n",
      "5/5 [==============================] - 0s 6ms/step - loss: 0.2901 - accuracy: 0.9015\n",
      "Epoch 30/50\n",
      "5/5 [==============================] - 0s 6ms/step - loss: 0.4921 - accuracy: 0.8106\n",
      "Epoch 31/50\n",
      "5/5 [==============================] - 0s 5ms/step - loss: 0.3890 - accuracy: 0.8258\n",
      "Epoch 32/50\n",
      "5/5 [==============================] - 0s 6ms/step - loss: 0.6246 - accuracy: 0.8485\n",
      "Epoch 33/50\n",
      "5/5 [==============================] - 0s 6ms/step - loss: 0.3633 - accuracy: 0.8864\n",
      "Epoch 34/50\n",
      "5/5 [==============================] - 0s 6ms/step - loss: 0.2035 - accuracy: 0.9545\n",
      "Epoch 35/50\n",
      "5/5 [==============================] - 0s 6ms/step - loss: 0.2077 - accuracy: 0.9470\n",
      "Epoch 36/50\n",
      "5/5 [==============================] - 0s 6ms/step - loss: 0.2262 - accuracy: 0.9470\n",
      "Epoch 37/50\n",
      "5/5 [==============================] - 0s 6ms/step - loss: 0.1226 - accuracy: 0.9773\n",
      "Epoch 38/50\n",
      "5/5 [==============================] - 0s 6ms/step - loss: 0.1635 - accuracy: 0.9318\n",
      "Epoch 39/50\n",
      "5/5 [==============================] - 0s 6ms/step - loss: 0.1102 - accuracy: 0.9697\n",
      "Epoch 40/50\n",
      "5/5 [==============================] - 0s 6ms/step - loss: 0.0826 - accuracy: 0.9773\n",
      "Epoch 41/50\n",
      "5/5 [==============================] - 0s 6ms/step - loss: 0.1886 - accuracy: 0.9470\n",
      "Epoch 42/50\n",
      "5/5 [==============================] - 0s 6ms/step - loss: 0.2845 - accuracy: 0.9242\n",
      "Epoch 43/50\n",
      "5/5 [==============================] - 0s 6ms/step - loss: 0.1002 - accuracy: 0.9773\n",
      "Epoch 44/50\n",
      "5/5 [==============================] - 0s 5ms/step - loss: 0.1136 - accuracy: 0.9773\n",
      "Epoch 45/50\n",
      "5/5 [==============================] - 0s 6ms/step - loss: 0.2353 - accuracy: 0.9167\n",
      "Epoch 46/50\n",
      "5/5 [==============================] - 0s 6ms/step - loss: 0.1544 - accuracy: 0.9394\n",
      "Epoch 47/50\n",
      "5/5 [==============================] - 0s 6ms/step - loss: 0.1199 - accuracy: 0.9621\n",
      "Epoch 48/50\n",
      "5/5 [==============================] - 0s 6ms/step - loss: 0.0781 - accuracy: 0.9848\n",
      "Epoch 49/50\n",
      "5/5 [==============================] - 0s 6ms/step - loss: 0.0597 - accuracy: 0.9773\n",
      "Epoch 50/50\n",
      "5/5 [==============================] - 0s 6ms/step - loss: 0.0702 - accuracy: 0.9697\n"
     ]
    },
    {
     "output_type": "execute_result",
     "data": {
      "text/plain": [
       "<keras.src.callbacks.History at 0x79b7cbfcb880>"
      ]
     },
     "metadata": {},
     "execution_count": 22
    }
   ],
   "source": [
    "model.fit(X_train_indices, Y_train_oh, epochs=50, batch_size=32, shuffle=True)"
   ],
   "metadata": {
    "colab": {
     "base_uri": "https://localhost:8080/"
    },
    "id": "5cf38e9bfa6507dd",
    "executionInfo": {
     "status": "ok",
     "timestamp": 1703063090578,
     "user_tz": -420,
     "elapsed": 6748,
     "user": {
      "displayName": "Thuan Nguyen",
      "userId": "08117843644571562719"
     }
    },
    "outputId": "b4013bea-5d9b-41de-dfa6-7b723b711694"
   },
   "id": "5cf38e9bfa6507dd"
  },
  {
   "cell_type": "code",
   "execution_count": 23,
   "outputs": [
    {
     "output_type": "stream",
     "name": "stdout",
     "text": [
      "2/2 [==============================] - 1s 7ms/step - loss: 0.6295 - accuracy: 0.8036\n",
      "\n",
      "Test accuracy =  0.8035714030265808\n"
     ]
    }
   ],
   "source": [
    "# Testing accuracy\n",
    "X_test_indices = sentences_to_indices(X_test, word_to_index, max_len = maxLen)\n",
    "Y_test_oh = convert_to_one_hot(Y_test, C = 5)\n",
    "loss, acc = model.evaluate(X_test_indices, Y_test_oh)\n",
    "print()\n",
    "print(\"Test accuracy = \", acc)"
   ],
   "metadata": {
    "colab": {
     "base_uri": "https://localhost:8080/"
    },
    "id": "2d857d4dfb100104",
    "executionInfo": {
     "status": "ok",
     "timestamp": 1703063091255,
     "user_tz": -420,
     "elapsed": 681,
     "user": {
      "displayName": "Thuan Nguyen",
      "userId": "08117843644571562719"
     }
    },
    "outputId": "3447c961-8945-4015-96a7-367e16bcbdd1"
   },
   "id": "2d857d4dfb100104"
  },
  {
   "cell_type": "code",
   "execution_count": 33,
   "outputs": [
    {
     "output_type": "stream",
     "name": "stdout",
     "text": [
      "1/1 [==============================] - 0s 19ms/step\n",
      "I cannot play baseball today ⚾\n",
      "My homework is just too hard 😞\n",
      "Joey is just hilarious 😄\n",
      "I am sorry baby! I will arrive on time! 😞\n",
      "Thanks for writing to me 😄\n",
      "Love your dishes - best cake ever! 🍴\n",
      "I miss you. When are you coming back? ❤️\n"
     ]
    }
   ],
   "source": [
    "# Now trying with new sentences\n",
    "x_test = np.array(['I cannot play baseball today',\n",
    "                   'My homework is just too hard',\n",
    "                   'Joey is just hilarious',\n",
    "                   'I am sorry baby! I will arrive on time!',\n",
    "                   'Thanks for writing to me',\n",
    "                   'Love your dishes - best cake ever!',\n",
    "                   'I miss you. When are you coming back?'])\n",
    "X_test_indices = sentences_to_indices(x_test, word_to_index, maxLen)\n",
    "# print(X_test_indices.shape)\n",
    "preds = model.predict(X_test_indices)\n",
    "for i, pred in enumerate(preds):\n",
    "  print(x_test[i] +' '+  label_to_emoji(np.argmax(pred)))"
   ],
   "metadata": {
    "colab": {
     "base_uri": "https://localhost:8080/"
    },
    "id": "5ed2582ae18926f8",
    "executionInfo": {
     "status": "ok",
     "timestamp": 1703063301114,
     "user_tz": -420,
     "elapsed": 318,
     "user": {
      "displayName": "Thuan Nguyen",
      "userId": "08117843644571562719"
     }
    },
    "outputId": "ee0d28eb-3d47-42b0-dd31-560800170d66"
   },
   "id": "5ed2582ae18926f8"
  }
 ],
 "metadata": {
  "kernelspec": {
   "display_name": "Python 3",
   "name": "python3"
  },
  "language_info": {
   "codemirror_mode": {
    "name": "ipython",
    "version": 2
   },
   "file_extension": ".py",
   "mimetype": "text/x-python",
   "name": "python",
   "nbconvert_exporter": "python",
   "pygments_lexer": "ipython2",
   "version": "2.7.6"
  },
  "colab": {
   "provenance": [],
   "machine_shape": "hm",
   "gpuType": "T4"
  },
  "accelerator": "GPU"
 },
 "nbformat": 4,
 "nbformat_minor": 5
}
